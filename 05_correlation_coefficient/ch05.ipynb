{
 "cells": [
  {
   "cell_type": "code",
   "execution_count": 2,
   "id": "a6b54978",
   "metadata": {},
   "outputs": [],
   "source": [
    "import pandas as pd\n",
    "import numpy as np"
   ]
  },
  {
   "cell_type": "code",
   "execution_count": 3,
   "id": "65908a7f",
   "metadata": {},
   "outputs": [
    {
     "data": {
      "text/html": [
       "<div>\n",
       "<style scoped>\n",
       "    .dataframe tbody tr th:only-of-type {\n",
       "        vertical-align: middle;\n",
       "    }\n",
       "\n",
       "    .dataframe tbody tr th {\n",
       "        vertical-align: top;\n",
       "    }\n",
       "\n",
       "    .dataframe thead th {\n",
       "        text-align: right;\n",
       "    }\n",
       "</style>\n",
       "<table border=\"1\" class=\"dataframe\">\n",
       "  <thead>\n",
       "    <tr style=\"text-align: right;\">\n",
       "      <th></th>\n",
       "      <th>身高</th>\n",
       "      <th>体重</th>\n",
       "      <th>肺活量</th>\n",
       "      <th>50米跑</th>\n",
       "      <th>立定跳远</th>\n",
       "      <th>坐位体前屈</th>\n",
       "    </tr>\n",
       "  </thead>\n",
       "  <tbody>\n",
       "    <tr>\n",
       "      <th>0</th>\n",
       "      <td>155</td>\n",
       "      <td>51</td>\n",
       "      <td>1687</td>\n",
       "      <td>9.7</td>\n",
       "      <td>158</td>\n",
       "      <td>9.3</td>\n",
       "    </tr>\n",
       "    <tr>\n",
       "      <th>1</th>\n",
       "      <td>158</td>\n",
       "      <td>52</td>\n",
       "      <td>1868</td>\n",
       "      <td>9.3</td>\n",
       "      <td>162</td>\n",
       "      <td>9.6</td>\n",
       "    </tr>\n",
       "    <tr>\n",
       "      <th>2</th>\n",
       "      <td>160</td>\n",
       "      <td>59</td>\n",
       "      <td>1958</td>\n",
       "      <td>9.9</td>\n",
       "      <td>178</td>\n",
       "      <td>9.5</td>\n",
       "    </tr>\n",
       "    <tr>\n",
       "      <th>3</th>\n",
       "      <td>163</td>\n",
       "      <td>59</td>\n",
       "      <td>1756</td>\n",
       "      <td>9.7</td>\n",
       "      <td>183</td>\n",
       "      <td>10.1</td>\n",
       "    </tr>\n",
       "    <tr>\n",
       "      <th>4</th>\n",
       "      <td>165</td>\n",
       "      <td>60</td>\n",
       "      <td>1575</td>\n",
       "      <td>9.0</td>\n",
       "      <td>156</td>\n",
       "      <td>10.4</td>\n",
       "    </tr>\n",
       "    <tr>\n",
       "      <th>...</th>\n",
       "      <td>...</td>\n",
       "      <td>...</td>\n",
       "      <td>...</td>\n",
       "      <td>...</td>\n",
       "      <td>...</td>\n",
       "      <td>...</td>\n",
       "    </tr>\n",
       "    <tr>\n",
       "      <th>586</th>\n",
       "      <td>164</td>\n",
       "      <td>50</td>\n",
       "      <td>2009</td>\n",
       "      <td>9.7</td>\n",
       "      <td>155</td>\n",
       "      <td>8.5</td>\n",
       "    </tr>\n",
       "    <tr>\n",
       "      <th>587</th>\n",
       "      <td>159</td>\n",
       "      <td>41</td>\n",
       "      <td>2538</td>\n",
       "      <td>11.3</td>\n",
       "      <td>165</td>\n",
       "      <td>7.8</td>\n",
       "    </tr>\n",
       "    <tr>\n",
       "      <th>588</th>\n",
       "      <td>158</td>\n",
       "      <td>48</td>\n",
       "      <td>3007</td>\n",
       "      <td>12.0</td>\n",
       "      <td>180</td>\n",
       "      <td>6.5</td>\n",
       "    </tr>\n",
       "    <tr>\n",
       "      <th>589</th>\n",
       "      <td>155</td>\n",
       "      <td>49</td>\n",
       "      <td>2709</td>\n",
       "      <td>11.0</td>\n",
       "      <td>160</td>\n",
       "      <td>6.4</td>\n",
       "    </tr>\n",
       "    <tr>\n",
       "      <th>590</th>\n",
       "      <td>155</td>\n",
       "      <td>51</td>\n",
       "      <td>2708</td>\n",
       "      <td>12.1</td>\n",
       "      <td>165</td>\n",
       "      <td>9.4</td>\n",
       "    </tr>\n",
       "  </tbody>\n",
       "</table>\n",
       "<p>591 rows × 6 columns</p>\n",
       "</div>"
      ],
      "text/plain": [
       "      身高  体重   肺活量  50米跑  立定跳远  坐位体前屈\n",
       "0    155  51  1687   9.7   158    9.3\n",
       "1    158  52  1868   9.3   162    9.6\n",
       "2    160  59  1958   9.9   178    9.5\n",
       "3    163  59  1756   9.7   183   10.1\n",
       "4    165  60  1575   9.0   156   10.4\n",
       "..   ...  ..   ...   ...   ...    ...\n",
       "586  164  50  2009   9.7   155    8.5\n",
       "587  159  41  2538  11.3   165    7.8\n",
       "588  158  48  3007  12.0   180    6.5\n",
       "589  155  49  2709  11.0   160    6.4\n",
       "590  155  51  2708  12.1   165    9.4\n",
       "\n",
       "[591 rows x 6 columns]"
      ]
     },
     "execution_count": 3,
     "metadata": {},
     "output_type": "execute_result"
    }
   ],
   "source": [
    "df=pd.read_csv('ch05_eg_data.csv')\n",
    "df"
   ]
  },
  {
   "cell_type": "markdown",
   "id": "0ff2ce2a",
   "metadata": {},
   "source": []
  },
  {
   "cell_type": "code",
   "execution_count": 3,
   "id": "971a59ed",
   "metadata": {},
   "outputs": [
    {
     "data": {
      "text/html": [
       "<div>\n",
       "<style scoped>\n",
       "    .dataframe tbody tr th:only-of-type {\n",
       "        vertical-align: middle;\n",
       "    }\n",
       "\n",
       "    .dataframe tbody tr th {\n",
       "        vertical-align: top;\n",
       "    }\n",
       "\n",
       "    .dataframe thead th {\n",
       "        text-align: right;\n",
       "    }\n",
       "</style>\n",
       "<table border=\"1\" class=\"dataframe\">\n",
       "  <thead>\n",
       "    <tr style=\"text-align: right;\">\n",
       "      <th></th>\n",
       "      <th>身高</th>\n",
       "      <th>体重</th>\n",
       "      <th>肺活量</th>\n",
       "      <th>50米跑</th>\n",
       "      <th>立定跳远</th>\n",
       "      <th>坐位体前屈</th>\n",
       "    </tr>\n",
       "  </thead>\n",
       "  <tbody>\n",
       "    <tr>\n",
       "      <th>count</th>\n",
       "      <td>591.000000</td>\n",
       "      <td>591.000000</td>\n",
       "      <td>591.000000</td>\n",
       "      <td>591.000000</td>\n",
       "      <td>591.000000</td>\n",
       "      <td>591.000000</td>\n",
       "    </tr>\n",
       "    <tr>\n",
       "      <th>mean</th>\n",
       "      <td>156.003384</td>\n",
       "      <td>46.783418</td>\n",
       "      <td>2333.233503</td>\n",
       "      <td>10.792014</td>\n",
       "      <td>166.825719</td>\n",
       "      <td>9.496616</td>\n",
       "    </tr>\n",
       "    <tr>\n",
       "      <th>std</th>\n",
       "      <td>7.389410</td>\n",
       "      <td>5.031473</td>\n",
       "      <td>350.436154</td>\n",
       "      <td>1.310873</td>\n",
       "      <td>16.813587</td>\n",
       "      <td>2.938186</td>\n",
       "    </tr>\n",
       "    <tr>\n",
       "      <th>min</th>\n",
       "      <td>135.000000</td>\n",
       "      <td>16.000000</td>\n",
       "      <td>1450.000000</td>\n",
       "      <td>7.800000</td>\n",
       "      <td>52.000000</td>\n",
       "      <td>0.500000</td>\n",
       "    </tr>\n",
       "    <tr>\n",
       "      <th>25%</th>\n",
       "      <td>151.000000</td>\n",
       "      <td>44.000000</td>\n",
       "      <td>2109.000000</td>\n",
       "      <td>9.800000</td>\n",
       "      <td>156.000000</td>\n",
       "      <td>7.800000</td>\n",
       "    </tr>\n",
       "    <tr>\n",
       "      <th>50%</th>\n",
       "      <td>157.000000</td>\n",
       "      <td>47.000000</td>\n",
       "      <td>2391.000000</td>\n",
       "      <td>10.700000</td>\n",
       "      <td>167.000000</td>\n",
       "      <td>9.600000</td>\n",
       "    </tr>\n",
       "    <tr>\n",
       "      <th>75%</th>\n",
       "      <td>161.000000</td>\n",
       "      <td>50.000000</td>\n",
       "      <td>2570.000000</td>\n",
       "      <td>11.500000</td>\n",
       "      <td>178.000000</td>\n",
       "      <td>11.600000</td>\n",
       "    </tr>\n",
       "    <tr>\n",
       "      <th>max</th>\n",
       "      <td>171.000000</td>\n",
       "      <td>65.000000</td>\n",
       "      <td>3272.000000</td>\n",
       "      <td>15.000000</td>\n",
       "      <td>205.000000</td>\n",
       "      <td>17.500000</td>\n",
       "    </tr>\n",
       "  </tbody>\n",
       "</table>\n",
       "</div>"
      ],
      "text/plain": [
       "               身高          体重          肺活量        50米跑        立定跳远       坐位体前屈\n",
       "count  591.000000  591.000000   591.000000  591.000000  591.000000  591.000000\n",
       "mean   156.003384   46.783418  2333.233503   10.792014  166.825719    9.496616\n",
       "std      7.389410    5.031473   350.436154    1.310873   16.813587    2.938186\n",
       "min    135.000000   16.000000  1450.000000    7.800000   52.000000    0.500000\n",
       "25%    151.000000   44.000000  2109.000000    9.800000  156.000000    7.800000\n",
       "50%    157.000000   47.000000  2391.000000   10.700000  167.000000    9.600000\n",
       "75%    161.000000   50.000000  2570.000000   11.500000  178.000000   11.600000\n",
       "max    171.000000   65.000000  3272.000000   15.000000  205.000000   17.500000"
      ]
     },
     "execution_count": 3,
     "metadata": {},
     "output_type": "execute_result"
    }
   ],
   "source": [
    "df.describe()"
   ]
  },
  {
   "cell_type": "code",
   "execution_count": 4,
   "id": "3201f66c",
   "metadata": {},
   "outputs": [
    {
     "data": {
      "text/html": [
       "<div>\n",
       "<style scoped>\n",
       "    .dataframe tbody tr th:only-of-type {\n",
       "        vertical-align: middle;\n",
       "    }\n",
       "\n",
       "    .dataframe tbody tr th {\n",
       "        vertical-align: top;\n",
       "    }\n",
       "\n",
       "    .dataframe thead th {\n",
       "        text-align: right;\n",
       "    }\n",
       "</style>\n",
       "<table border=\"1\" class=\"dataframe\">\n",
       "  <thead>\n",
       "    <tr style=\"text-align: right;\">\n",
       "      <th></th>\n",
       "      <th>身高</th>\n",
       "      <th>体重</th>\n",
       "      <th>肺活量</th>\n",
       "      <th>50米跑</th>\n",
       "      <th>立定跳远</th>\n",
       "      <th>坐位体前屈</th>\n",
       "    </tr>\n",
       "  </thead>\n",
       "  <tbody>\n",
       "    <tr>\n",
       "      <th>0</th>\n",
       "      <td>155</td>\n",
       "      <td>51</td>\n",
       "      <td>1687</td>\n",
       "      <td>9.7</td>\n",
       "      <td>158</td>\n",
       "      <td>9.3</td>\n",
       "    </tr>\n",
       "    <tr>\n",
       "      <th>1</th>\n",
       "      <td>158</td>\n",
       "      <td>52</td>\n",
       "      <td>1868</td>\n",
       "      <td>9.3</td>\n",
       "      <td>162</td>\n",
       "      <td>9.6</td>\n",
       "    </tr>\n",
       "    <tr>\n",
       "      <th>2</th>\n",
       "      <td>160</td>\n",
       "      <td>59</td>\n",
       "      <td>1958</td>\n",
       "      <td>9.9</td>\n",
       "      <td>178</td>\n",
       "      <td>9.5</td>\n",
       "    </tr>\n",
       "    <tr>\n",
       "      <th>3</th>\n",
       "      <td>163</td>\n",
       "      <td>59</td>\n",
       "      <td>1756</td>\n",
       "      <td>9.7</td>\n",
       "      <td>183</td>\n",
       "      <td>10.1</td>\n",
       "    </tr>\n",
       "    <tr>\n",
       "      <th>4</th>\n",
       "      <td>165</td>\n",
       "      <td>60</td>\n",
       "      <td>1575</td>\n",
       "      <td>9.0</td>\n",
       "      <td>156</td>\n",
       "      <td>10.4</td>\n",
       "    </tr>\n",
       "    <tr>\n",
       "      <th>...</th>\n",
       "      <td>...</td>\n",
       "      <td>...</td>\n",
       "      <td>...</td>\n",
       "      <td>...</td>\n",
       "      <td>...</td>\n",
       "      <td>...</td>\n",
       "    </tr>\n",
       "    <tr>\n",
       "      <th>586</th>\n",
       "      <td>164</td>\n",
       "      <td>50</td>\n",
       "      <td>2009</td>\n",
       "      <td>9.7</td>\n",
       "      <td>155</td>\n",
       "      <td>8.5</td>\n",
       "    </tr>\n",
       "    <tr>\n",
       "      <th>587</th>\n",
       "      <td>159</td>\n",
       "      <td>41</td>\n",
       "      <td>2538</td>\n",
       "      <td>11.3</td>\n",
       "      <td>165</td>\n",
       "      <td>7.8</td>\n",
       "    </tr>\n",
       "    <tr>\n",
       "      <th>588</th>\n",
       "      <td>158</td>\n",
       "      <td>48</td>\n",
       "      <td>3007</td>\n",
       "      <td>12.0</td>\n",
       "      <td>180</td>\n",
       "      <td>6.5</td>\n",
       "    </tr>\n",
       "    <tr>\n",
       "      <th>589</th>\n",
       "      <td>155</td>\n",
       "      <td>49</td>\n",
       "      <td>2709</td>\n",
       "      <td>11.0</td>\n",
       "      <td>160</td>\n",
       "      <td>6.4</td>\n",
       "    </tr>\n",
       "    <tr>\n",
       "      <th>590</th>\n",
       "      <td>155</td>\n",
       "      <td>51</td>\n",
       "      <td>2708</td>\n",
       "      <td>12.1</td>\n",
       "      <td>165</td>\n",
       "      <td>9.4</td>\n",
       "    </tr>\n",
       "  </tbody>\n",
       "</table>\n",
       "<p>591 rows × 6 columns</p>\n",
       "</div>"
      ],
      "text/plain": [
       "      身高  体重   肺活量  50米跑  立定跳远  坐位体前屈\n",
       "0    155  51  1687   9.7   158    9.3\n",
       "1    158  52  1868   9.3   162    9.6\n",
       "2    160  59  1958   9.9   178    9.5\n",
       "3    163  59  1756   9.7   183   10.1\n",
       "4    165  60  1575   9.0   156   10.4\n",
       "..   ...  ..   ...   ...   ...    ...\n",
       "586  164  50  2009   9.7   155    8.5\n",
       "587  159  41  2538  11.3   165    7.8\n",
       "588  158  48  3007  12.0   180    6.5\n",
       "589  155  49  2709  11.0   160    6.4\n",
       "590  155  51  2708  12.1   165    9.4\n",
       "\n",
       "[591 rows x 6 columns]"
      ]
     },
     "execution_count": 4,
     "metadata": {},
     "output_type": "execute_result"
    }
   ],
   "source": [
    "df=df.dropna(axis=0,how='any')\n",
    "df"
   ]
  },
  {
   "cell_type": "code",
   "execution_count": 4,
   "id": "724e9bb9",
   "metadata": {},
   "outputs": [],
   "source": [
    "import scipy.stats as ss"
   ]
  },
  {
   "cell_type": "code",
   "execution_count": 7,
   "id": "e31bead0",
   "metadata": {},
   "outputs": [
    {
     "data": {
      "text/plain": [
       "array([-0.29539367, -0.36068681, -0.2852282 ,  0.70954551, -0.83687341,\n",
       "       -0.22496928])"
      ]
     },
     "execution_count": 7,
     "metadata": {},
     "output_type": "execute_result"
    }
   ],
   "source": [
    "# 偏度\n",
    "ss.skew(df)"
   ]
  },
  {
   "cell_type": "code",
   "execution_count": 8,
   "id": "9c370fa9",
   "metadata": {},
   "outputs": [
    {
     "data": {
      "text/plain": [
       "array([-0.25729588,  6.43558535, -0.24802593,  0.29941375,  5.43132891,\n",
       "       -0.24496993])"
      ]
     },
     "execution_count": 8,
     "metadata": {},
     "output_type": "execute_result"
    }
   ],
   "source": [
    "# 峰度\n",
    "ss.kurtosis(df)"
   ]
  },
  {
   "cell_type": "code",
   "execution_count": 9,
   "id": "8bf390a6",
   "metadata": {},
   "outputs": [
    {
     "data": {
      "text/plain": [
       "0.5"
      ]
     },
     "execution_count": 9,
     "metadata": {},
     "output_type": "execute_result"
    }
   ],
   "source": [
    "ss.norm.cdf(0)"
   ]
  },
  {
   "cell_type": "code",
   "execution_count": 5,
   "id": "ef426815",
   "metadata": {},
   "outputs": [],
   "source": [
    "pc=np.corrcoef(df)"
   ]
  },
  {
   "cell_type": "code",
   "execution_count": 6,
   "id": "4f729657",
   "metadata": {},
   "outputs": [
    {
     "name": "stdout",
     "output_type": "stream",
     "text": [
      "[[1.         0.99996848 0.99995235 ... 0.99917702 0.99926166 0.99927169]\n",
      " [0.99996848 1.         0.9999813  ... 0.99946542 0.99953419 0.9995426 ]\n",
      " [0.99995235 0.9999813  1.         ... 0.99944883 0.99949705 0.99951366]\n",
      " ...\n",
      " [0.99917702 0.99946542 0.99944883 ... 1.         0.99998777 0.9999924 ]\n",
      " [0.99926166 0.99953419 0.99949705 ... 0.99998777 1.         0.99999872]\n",
      " [0.99927169 0.9995426  0.99951366 ... 0.9999924  0.99999872 1.        ]]\n"
     ]
    }
   ],
   "source": [
    "print(pc)"
   ]
  },
  {
   "cell_type": "code",
   "execution_count": 11,
   "id": "5f731e79",
   "metadata": {},
   "outputs": [
    {
     "name": "stdout",
     "output_type": "stream",
     "text": [
      "             身高        体重       肺活量      50米跑      立定跳远     坐位体前屈\n",
      "身高     1.000000  0.066531 -0.217663 -0.192002  0.043973  0.095069\n",
      "体重     0.066531  1.000000  0.095375  0.068540  0.027943 -0.016089\n",
      "肺活量   -0.217663  0.095375  1.000000  0.289751  0.024827 -0.074931\n",
      "50米跑  -0.192002  0.068540  0.289751  1.000000 -0.058681 -0.001876\n",
      "立定跳远   0.043973  0.027943  0.024827 -0.058681  1.000000 -0.017407\n",
      "坐位体前屈  0.095069 -0.016089 -0.074931 -0.001876 -0.017407  1.000000\n"
     ]
    }
   ],
   "source": [
    "import matplotlib.pyplot as plt\n",
    "import seaborn as sns\n",
    "%matplotlib inline\n",
    "\n",
    "df=pd.DataFrame(df)\n",
    "cor=df.corr(method='pearson')\n",
    "print(cor)\n"
   ]
  },
  {
   "cell_type": "code",
   "execution_count": 13,
   "id": "9f0345b7",
   "metadata": {},
   "outputs": [],
   "source": [
    "rc={'font.sans-serif':'SimHei','axes.unicode_minus':False}\n",
    "sns.set(font_scale=0.7,rc=rc)"
   ]
  },
  {
   "cell_type": "code",
   "execution_count": 21,
   "id": "f04d4085",
   "metadata": {},
   "outputs": [
    {
     "name": "stderr",
     "output_type": "stream",
     "text": [
      "/var/folders/ly/csbbtbk94zg0bw5rzw4l3cdc0000gn/T/ipykernel_17253/2255176698.py:2: UserWarning: Glyph 36523 (\\N{CJK UNIFIED IDEOGRAPH-8EAB}) missing from current font.\n",
      "  plt.savefig('ch04_eg_heatmap.png',dpi=600)\n",
      "/var/folders/ly/csbbtbk94zg0bw5rzw4l3cdc0000gn/T/ipykernel_17253/2255176698.py:2: UserWarning: Glyph 39640 (\\N{CJK UNIFIED IDEOGRAPH-9AD8}) missing from current font.\n",
      "  plt.savefig('ch04_eg_heatmap.png',dpi=600)\n",
      "/var/folders/ly/csbbtbk94zg0bw5rzw4l3cdc0000gn/T/ipykernel_17253/2255176698.py:2: UserWarning: Glyph 20307 (\\N{CJK UNIFIED IDEOGRAPH-4F53}) missing from current font.\n",
      "  plt.savefig('ch04_eg_heatmap.png',dpi=600)\n",
      "/var/folders/ly/csbbtbk94zg0bw5rzw4l3cdc0000gn/T/ipykernel_17253/2255176698.py:2: UserWarning: Glyph 37325 (\\N{CJK UNIFIED IDEOGRAPH-91CD}) missing from current font.\n",
      "  plt.savefig('ch04_eg_heatmap.png',dpi=600)\n",
      "/var/folders/ly/csbbtbk94zg0bw5rzw4l3cdc0000gn/T/ipykernel_17253/2255176698.py:2: UserWarning: Glyph 32954 (\\N{CJK UNIFIED IDEOGRAPH-80BA}) missing from current font.\n",
      "  plt.savefig('ch04_eg_heatmap.png',dpi=600)\n",
      "/var/folders/ly/csbbtbk94zg0bw5rzw4l3cdc0000gn/T/ipykernel_17253/2255176698.py:2: UserWarning: Glyph 27963 (\\N{CJK UNIFIED IDEOGRAPH-6D3B}) missing from current font.\n",
      "  plt.savefig('ch04_eg_heatmap.png',dpi=600)\n",
      "/var/folders/ly/csbbtbk94zg0bw5rzw4l3cdc0000gn/T/ipykernel_17253/2255176698.py:2: UserWarning: Glyph 37327 (\\N{CJK UNIFIED IDEOGRAPH-91CF}) missing from current font.\n",
      "  plt.savefig('ch04_eg_heatmap.png',dpi=600)\n",
      "/var/folders/ly/csbbtbk94zg0bw5rzw4l3cdc0000gn/T/ipykernel_17253/2255176698.py:2: UserWarning: Glyph 31859 (\\N{CJK UNIFIED IDEOGRAPH-7C73}) missing from current font.\n",
      "  plt.savefig('ch04_eg_heatmap.png',dpi=600)\n",
      "/var/folders/ly/csbbtbk94zg0bw5rzw4l3cdc0000gn/T/ipykernel_17253/2255176698.py:2: UserWarning: Glyph 36305 (\\N{CJK UNIFIED IDEOGRAPH-8DD1}) missing from current font.\n",
      "  plt.savefig('ch04_eg_heatmap.png',dpi=600)\n",
      "/var/folders/ly/csbbtbk94zg0bw5rzw4l3cdc0000gn/T/ipykernel_17253/2255176698.py:2: UserWarning: Glyph 31435 (\\N{CJK UNIFIED IDEOGRAPH-7ACB}) missing from current font.\n",
      "  plt.savefig('ch04_eg_heatmap.png',dpi=600)\n",
      "/var/folders/ly/csbbtbk94zg0bw5rzw4l3cdc0000gn/T/ipykernel_17253/2255176698.py:2: UserWarning: Glyph 23450 (\\N{CJK UNIFIED IDEOGRAPH-5B9A}) missing from current font.\n",
      "  plt.savefig('ch04_eg_heatmap.png',dpi=600)\n",
      "/var/folders/ly/csbbtbk94zg0bw5rzw4l3cdc0000gn/T/ipykernel_17253/2255176698.py:2: UserWarning: Glyph 36339 (\\N{CJK UNIFIED IDEOGRAPH-8DF3}) missing from current font.\n",
      "  plt.savefig('ch04_eg_heatmap.png',dpi=600)\n",
      "/var/folders/ly/csbbtbk94zg0bw5rzw4l3cdc0000gn/T/ipykernel_17253/2255176698.py:2: UserWarning: Glyph 36828 (\\N{CJK UNIFIED IDEOGRAPH-8FDC}) missing from current font.\n",
      "  plt.savefig('ch04_eg_heatmap.png',dpi=600)\n",
      "/var/folders/ly/csbbtbk94zg0bw5rzw4l3cdc0000gn/T/ipykernel_17253/2255176698.py:2: UserWarning: Glyph 22352 (\\N{CJK UNIFIED IDEOGRAPH-5750}) missing from current font.\n",
      "  plt.savefig('ch04_eg_heatmap.png',dpi=600)\n",
      "/var/folders/ly/csbbtbk94zg0bw5rzw4l3cdc0000gn/T/ipykernel_17253/2255176698.py:2: UserWarning: Glyph 20301 (\\N{CJK UNIFIED IDEOGRAPH-4F4D}) missing from current font.\n",
      "  plt.savefig('ch04_eg_heatmap.png',dpi=600)\n",
      "/var/folders/ly/csbbtbk94zg0bw5rzw4l3cdc0000gn/T/ipykernel_17253/2255176698.py:2: UserWarning: Glyph 21069 (\\N{CJK UNIFIED IDEOGRAPH-524D}) missing from current font.\n",
      "  plt.savefig('ch04_eg_heatmap.png',dpi=600)\n",
      "/var/folders/ly/csbbtbk94zg0bw5rzw4l3cdc0000gn/T/ipykernel_17253/2255176698.py:2: UserWarning: Glyph 23624 (\\N{CJK UNIFIED IDEOGRAPH-5C48}) missing from current font.\n",
      "  plt.savefig('ch04_eg_heatmap.png',dpi=600)\n"
     ]
    },
    {
     "data": {
      "text/plain": [
       "<matplotlib.pyplot._IonContext at 0x7fd25a7adac0>"
      ]
     },
     "execution_count": 21,
     "metadata": {},
     "output_type": "execute_result"
    },
    {
     "data": {
      "image/png": "[encoded data removed]",
      "text/plain": [
       "<Figure size 640x480 with 2 Axes>"
      ]
     },
     "metadata": {},
     "output_type": "display_data"
    }
   ],
   "source": [
    "sns.heatmap(cor,annot=True,center=0.5,fmt='.2f',vmin=0,vmax=1,cbar=True,cmap='coolwarm')\n",
    "plt.savefig('ch04_eg_heatmap.png',dpi=600)\n",
    "plt.ion()"
   ]
  },
  {
   "cell_type": "code",
   "execution_count": null,
   "id": "a10e5445",
   "metadata": {},
   "outputs": [],
   "source": []
  },
  {
   "cell_type": "code",
   "execution_count": null,
   "id": "eb53b01b",
   "metadata": {},
   "outputs": [],
   "source": []
  },
  {
   "cell_type": "code",
   "execution_count": null,
   "id": "c1ac38b8",
   "metadata": {},
   "outputs": [],
   "source": []
  },
  {
   "cell_type": "code",
   "execution_count": null,
   "id": "7bf81a1e",
   "metadata": {},
   "outputs": [],
   "source": []
  },
  {
   "cell_type": "code",
   "execution_count": null,
   "id": "4cda73eb",
   "metadata": {},
   "outputs": [],
   "source": []
  },
  {
   "cell_type": "code",
   "execution_count": null,
   "id": "eb23e1b5",
   "metadata": {},
   "outputs": [],
   "source": []
  },
  {
   "cell_type": "code",
   "execution_count": null,
   "id": "8f38d3e5",
   "metadata": {},
   "outputs": [],
   "source": []
  }
 ],
 "metadata": {
  "kernelspec": {
   "display_name": "Python 3 (ipykernel)",
   "language": "python",
   "name": "python3"
  },
  "language_info": {
   "codemirror_mode": {
    "name": "ipython",
    "version": 3
   },
   "file_extension": ".py",
   "mimetype": "text/x-python",
   "name": "python",
   "nbconvert_exporter": "python",
   "pygments_lexer": "ipython3",
   "version": "3.9.13"
  }
 },
 "nbformat": 4,
 "nbformat_minor": 5
}
